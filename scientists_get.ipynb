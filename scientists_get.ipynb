{
 "cells": [
  {
   "cell_type": "code",
   "execution_count": 6,
   "metadata": {},
   "outputs": [
    {
     "name": "stdout",
     "output_type": "stream",
     "text": [
      "http://dbpedia.org/resource/Abraham_Robinson\n",
      "http://dbpedia.org/resource/Abraham_de_Moivre\n",
      "http://dbpedia.org/resource/Adi_Shamir\n",
      "http://dbpedia.org/resource/Adrien-Marie_Legendre\n",
      "http://dbpedia.org/resource/Albert_Brudzewski\n",
      "http://dbpedia.org/resource/Alec_Jeffreys\n",
      "http://dbpedia.org/resource/Alexander_Dallas_Bache\n",
      "http://dbpedia.org/resource/Alexander_Shulgin\n",
      "http://dbpedia.org/resource/Alfred_Kinsey\n",
      "http://dbpedia.org/resource/Alice_Miller_(psychologist)\n",
      "http://dbpedia.org/resource/Alonzo_Church\n",
      "http://dbpedia.org/resource/Aloysius_Lilius\n",
      "http://dbpedia.org/resource/Amedeo_Avogadro\n",
      "http://dbpedia.org/resource/Andreas_Vesalius\n",
      "http://dbpedia.org/resource/Anselme_Payen\n",
      "http://dbpedia.org/resource/Antonie_van_Leeuwenhoek\n",
      "http://dbpedia.org/resource/Aristid_Lindenmayer\n",
      "http://dbpedia.org/resource/Arthur_Evans\n",
      "http://dbpedia.org/resource/August_Ferdinand_Möbius\n",
      "http://dbpedia.org/resource/August_Weismann\n",
      "http://dbpedia.org/resource/Augustus_Pitt_Rivers\n",
      "http://dbpedia.org/resource/Barbara_McClintock\n",
      "http://dbpedia.org/resource/Benjamin_Peirce\n",
      "http://dbpedia.org/resource/Benjamin_Spock\n",
      "http://dbpedia.org/resource/Bernhard_Riemann\n",
      "http://dbpedia.org/resource/Bruce_Schneier\n",
      "http://dbpedia.org/resource/Camillo_Golgi\n",
      "http://dbpedia.org/resource/Carl_Friedrich_Gauss\n",
      "http://dbpedia.org/resource/Carl_Woese\n",
      "http://dbpedia.org/resource/Carlo_Rubbia\n",
      "http://dbpedia.org/resource/Casimir_Funk\n",
      "http://dbpedia.org/resource/Ferdinand_Rudolph_Hassler\n",
      "http://dbpedia.org/resource/Georg_von_Peuerbach\n",
      "http://dbpedia.org/resource/Isaac_Newton\n",
      "http://dbpedia.org/resource/Niels_Henrik_Abel\n",
      "http://dbpedia.org/resource/Regiomontanus\n",
      "http://dbpedia.org/resource/William_Herschel\n"
     ]
    }
   ],
   "source": [
    "from __future__ import print_function\n",
    "import time\n",
    "import dbpedia\n",
    "from dbpedia.rest import ApiException\n",
    "from pprint import pprint\n",
    "# Defining the host is optional and defaults to https://dbpedia.mosorio.me/v0.0.1\n",
    "# See configuration.py for a list of all supported configuration parameters.\n",
    "configuration = dbpedia.Configuration(\n",
    "    host = \"https://dbpedia.mosorio.dev/v0.0.1\"\n",
    ")\n",
    "\n",
    "\n",
    "# Enter a context with an instance of the API client\n",
    "with dbpedia.ApiClient(configuration=configuration) as api_client:\n",
    "    # Create an instance of the API class\n",
    "    api_instance = dbpedia.ScientistApi(api_client)\n",
    "    page = 1 # int | Page number (optional) (default to 1)\n",
    "    per_page = 100 # int | Items per page (optional) (default to 100)\n",
    "    label = \"\"\n",
    "    try:\n",
    "        # List all instances of Scientist\n",
    "        api_response = api_instance.scientists_get(label=None, page=page, per_page=per_page)\n",
    "        for item in api_response:\n",
    "            print(item.id)\n",
    "    except ApiException as e:\n",
    "        print(\"Exception when calling ScientistApi->scientists_get: %s\\n\" % e)"
   ]
  },
  {
   "cell_type": "code",
   "execution_count": null,
   "metadata": {},
   "outputs": [],
   "source": []
  }
 ],
 "metadata": {
  "kernelspec": {
   "display_name": "Python 3",
   "language": "python",
   "name": "python3"
  },
  "language_info": {
   "codemirror_mode": {
    "name": "ipython",
    "version": 3
   },
   "file_extension": ".py",
   "mimetype": "text/x-python",
   "name": "python",
   "nbconvert_exporter": "python",
   "pygments_lexer": "ipython3",
   "version": "3.7.6"
  }
 },
 "nbformat": 4,
 "nbformat_minor": 4
}
